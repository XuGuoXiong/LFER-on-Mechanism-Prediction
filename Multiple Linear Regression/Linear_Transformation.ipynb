{
 "cells": [
  {
   "cell_type": "code",
   "execution_count": 21,
   "id": "1be51adb",
   "metadata": {},
   "outputs": [
    {
     "data": {
      "application/vnd.microsoft.datawrangler.viewer.v0+json": {
       "columns": [
        {
         "name": "index",
         "rawType": "int64",
         "type": "integer"
        },
        {
         "name": "No",
         "rawType": "object",
         "type": "string"
        },
        {
         "name": "N(RE)",
         "rawType": "float64",
         "type": "float"
        },
        {
         "name": "N(RS)",
         "rawType": "float64",
         "type": "float"
        },
        {
         "name": "N(IP)",
         "rawType": "float64",
         "type": "float"
        }
       ],
       "ref": "f6a180fa-525c-4511-aeef-e6dda02b2504",
       "rows": [
        [
         "0",
         "N65",
         "0.11625484027786115",
         null,
         "-1.0283773489126133"
        ],
        [
         "1",
         "N66",
         "-11.737399614766446",
         null,
         "-16.21787230577945"
        ],
        [
         "2",
         "N70",
         "-5.690090563265812",
         null,
         "-8.080956619704807"
        ],
        [
         "3",
         "N69",
         "-9.566844254267608",
         null,
         "-10.29794768279578"
        ],
        [
         "4",
         "N68",
         "-6.803292416502927",
         null,
         "-5.296696968033643"
        ],
        [
         "5",
         "N73",
         "-6.309442439932582",
         null,
         "-8.92683942546762"
        ],
        [
         "6",
         "N71",
         "-3.2396659659000306",
         null,
         "-6.429979125044042"
        ],
        [
         "7",
         "N72",
         "1.3009927761729614",
         null,
         "-1.8880653636359739"
        ],
        [
         "8",
         "N75",
         "4.5157239448733435",
         null,
         "1.0769170237409753"
        ],
        [
         "9",
         "N74",
         "-31.93379287223911",
         null,
         "-29.147705553338596"
        ],
        [
         "10",
         "N67",
         "3.1534008202131645",
         null,
         "-0.6744619909503626"
        ],
        [
         "11",
         "N22",
         "-17.843694559416008",
         "62.2",
         "4.441622962470433"
        ],
        [
         "12",
         "N64",
         "-24.337790374761653",
         null,
         "-2.7822664014591965"
        ],
        [
         "13",
         "N23",
         "-20.007347315318157",
         "60.7",
         "2.4819107941522134"
        ],
        [
         "14",
         "N10",
         "-17.39586109382739",
         "62.3",
         "5.06948540812359"
        ],
        [
         "15",
         "N62",
         "28.142711638588253",
         null,
         "20.60626768261966"
        ],
        [
         "16",
         "N44",
         "14.009942679781261",
         "84.0",
         "23.350994235596886"
        ],
        [
         "17",
         "N55",
         "19.30612285958955",
         null,
         "24.410230271511978"
        ],
        [
         "18",
         "N61",
         "28.63041080329266",
         null,
         "31.40495602586189"
        ],
        [
         "19",
         "N11",
         "8.91895810607707",
         "82.9",
         "26.13399886804939"
        ],
        [
         "20",
         "N35",
         "29.11786140163781",
         "97.2",
         "31.145289735280244"
        ],
        [
         "21",
         "N45",
         "13.875028137232903",
         null,
         "18.999843362712568"
        ],
        [
         "22",
         "N1",
         "20.61327200420345",
         "92.3",
         "27.01540573442578"
        ],
        [
         "23",
         "N7",
         "-3.922106248220892",
         "73.9",
         "17.36784060661757"
        ],
        [
         "24",
         "N2",
         "18.86599464071293",
         "88.8",
         "26.10782639058655"
        ],
        [
         "25",
         "N26",
         "22.923715127165224",
         "89.0",
         "23.000216425273834"
        ],
        [
         "26",
         "N25",
         "20.503410985575783",
         "88.9",
         "25.960178736591047"
        ],
        [
         "27",
         "N31",
         "12.777514021493289",
         "84.4",
         "19.914752213743782"
        ],
        [
         "28",
         "N30",
         "16.881426151491496",
         "88.1",
         "22.14366595749118"
        ],
        [
         "29",
         "N27",
         "18.986093014477547",
         null,
         "21.721352064160897"
        ],
        [
         "30",
         "N28",
         "17.56227395939527",
         "82.4",
         "14.811844959732412"
        ],
        [
         "31",
         "N34",
         "14.753541437092963",
         "84.6",
         "19.749717215069836"
        ],
        [
         "32",
         "N32",
         "14.663807578732985",
         "85.5",
         "20.926925037049955"
        ],
        [
         "33",
         "N33",
         "16.676858054589275",
         "85.4",
         "22.18884664167956"
        ],
        [
         "34",
         "N6",
         "23.339126416015233",
         "91.1",
         "26.36805991187532"
        ],
        [
         "35",
         "N4",
         "2.7850527439720736",
         "74.8",
         "11.602761376526473"
        ],
        [
         "36",
         "N29",
         "19.84829106763823",
         "90.2",
         "25.070370265858514"
        ],
        [
         "37",
         "N16",
         "-9.523546099081841",
         "68.8",
         null
        ],
        [
         "38",
         "N15",
         "-6.985270171310958",
         "69.3",
         "16.41513173211672"
        ],
        [
         "39",
         "N13",
         "-3.5113775794172852",
         "72.9",
         null
        ],
        [
         "40",
         "N14",
         "-5.710798376939465",
         "69.6",
         "12.791891879279433"
        ],
        [
         "41",
         "N19",
         "-8.943727320759763",
         "69.6",
         "8.843602105153991"
        ],
        [
         "42",
         "N17",
         "-8.26036947558282",
         "70.3",
         "14.22637859614872"
        ],
        [
         "43",
         "N18",
         "-6.204020843842272",
         "72.0",
         "16.068746488185866"
        ],
        [
         "44",
         "N21",
         "0.3302355796320171",
         "77.1",
         "21.219344464124447"
        ],
        [
         "45",
         "N20",
         "-19.563698098646682",
         "60.1",
         "3.0560819867470173"
        ],
        [
         "46",
         "N12",
         "-3.3770905464200496",
         "74.5",
         "13.814732364139786"
        ],
        [
         "47",
         "N40",
         "10.45384634297693",
         null,
         "18.833553344936377"
        ],
        [
         "48",
         "N39",
         "3.9440627900173695",
         null,
         "14.180570402642047"
        ],
        [
         "49",
         "N36",
         "15.573068844269756",
         null,
         null
        ]
       ],
       "shape": {
        "columns": 4,
        "rows": 75
       }
      },
      "text/html": [
       "<div>\n",
       "<style scoped>\n",
       "    .dataframe tbody tr th:only-of-type {\n",
       "        vertical-align: middle;\n",
       "    }\n",
       "\n",
       "    .dataframe tbody tr th {\n",
       "        vertical-align: top;\n",
       "    }\n",
       "\n",
       "    .dataframe thead th {\n",
       "        text-align: right;\n",
       "    }\n",
       "</style>\n",
       "<table border=\"1\" class=\"dataframe\">\n",
       "  <thead>\n",
       "    <tr style=\"text-align: right;\">\n",
       "      <th></th>\n",
       "      <th>No</th>\n",
       "      <th>N(RE)</th>\n",
       "      <th>N(RS)</th>\n",
       "      <th>N(IP)</th>\n",
       "    </tr>\n",
       "  </thead>\n",
       "  <tbody>\n",
       "    <tr>\n",
       "      <th>0</th>\n",
       "      <td>N65</td>\n",
       "      <td>0.116255</td>\n",
       "      <td>NaN</td>\n",
       "      <td>-1.028377</td>\n",
       "    </tr>\n",
       "    <tr>\n",
       "      <th>1</th>\n",
       "      <td>N66</td>\n",
       "      <td>-11.737400</td>\n",
       "      <td>NaN</td>\n",
       "      <td>-16.217872</td>\n",
       "    </tr>\n",
       "    <tr>\n",
       "      <th>2</th>\n",
       "      <td>N70</td>\n",
       "      <td>-5.690091</td>\n",
       "      <td>NaN</td>\n",
       "      <td>-8.080957</td>\n",
       "    </tr>\n",
       "    <tr>\n",
       "      <th>3</th>\n",
       "      <td>N69</td>\n",
       "      <td>-9.566844</td>\n",
       "      <td>NaN</td>\n",
       "      <td>-10.297948</td>\n",
       "    </tr>\n",
       "    <tr>\n",
       "      <th>4</th>\n",
       "      <td>N68</td>\n",
       "      <td>-6.803292</td>\n",
       "      <td>NaN</td>\n",
       "      <td>-5.296697</td>\n",
       "    </tr>\n",
       "    <tr>\n",
       "      <th>...</th>\n",
       "      <td>...</td>\n",
       "      <td>...</td>\n",
       "      <td>...</td>\n",
       "      <td>...</td>\n",
       "    </tr>\n",
       "    <tr>\n",
       "      <th>70</th>\n",
       "      <td>N56</td>\n",
       "      <td>5.065422</td>\n",
       "      <td>78.4</td>\n",
       "      <td>12.006250</td>\n",
       "    </tr>\n",
       "    <tr>\n",
       "      <th>71</th>\n",
       "      <td>N9</td>\n",
       "      <td>-6.935069</td>\n",
       "      <td>71.0</td>\n",
       "      <td>16.747084</td>\n",
       "    </tr>\n",
       "    <tr>\n",
       "      <th>72</th>\n",
       "      <td>N59</td>\n",
       "      <td>1.562037</td>\n",
       "      <td>75.7</td>\n",
       "      <td>12.714708</td>\n",
       "    </tr>\n",
       "    <tr>\n",
       "      <th>73</th>\n",
       "      <td>N58</td>\n",
       "      <td>-4.491547</td>\n",
       "      <td>70.7</td>\n",
       "      <td>8.369205</td>\n",
       "    </tr>\n",
       "    <tr>\n",
       "      <th>74</th>\n",
       "      <td>N24</td>\n",
       "      <td>-2.792252</td>\n",
       "      <td>74.7</td>\n",
       "      <td>16.085062</td>\n",
       "    </tr>\n",
       "  </tbody>\n",
       "</table>\n",
       "<p>75 rows × 4 columns</p>\n",
       "</div>"
      ],
      "text/plain": [
       "     No      N(RE)  N(RS)      N(IP)\n",
       "0   N65   0.116255    NaN  -1.028377\n",
       "1   N66 -11.737400    NaN -16.217872\n",
       "2   N70  -5.690091    NaN  -8.080957\n",
       "3   N69  -9.566844    NaN -10.297948\n",
       "4   N68  -6.803292    NaN  -5.296697\n",
       "..  ...        ...    ...        ...\n",
       "70  N56   5.065422   78.4  12.006250\n",
       "71   N9  -6.935069   71.0  16.747084\n",
       "72  N59   1.562037   75.7  12.714708\n",
       "73  N58  -4.491547   70.7   8.369205\n",
       "74  N24  -2.792252   74.7  16.085062\n",
       "\n",
       "[75 rows x 4 columns]"
      ]
     },
     "execution_count": 21,
     "metadata": {},
     "output_type": "execute_result"
    }
   ],
   "source": [
    "import pandas as pd\n",
    "import numpy as np\n",
    "from sklearn.metrics import mean_absolute_error, r2_score, root_mean_squared_error\n",
    "from sklearn.linear_model import LinearRegression\n",
    "from sklearn.model_selection import LeaveOneOut, KFold\n",
    "\n",
    "df = pd.read_excel('LFER_Parameters_N.xlsx')\n",
    "df"
   ]
  },
  {
   "cell_type": "code",
   "execution_count": 22,
   "id": "94dd8997",
   "metadata": {},
   "outputs": [],
   "source": [
    "df_cut = df.loc[(df[\"N(RE)\"].notna() & df[\"N(RS)\"].notna()), [\"N(RE)\", \"N(RS)\"]]"
   ]
  },
  {
   "cell_type": "code",
   "execution_count": 23,
   "id": "fc3eab6c",
   "metadata": {},
   "outputs": [
    {
     "name": "stdout",
     "output_type": "stream",
     "text": [
      "Mean R-squared score: 0.960\n",
      "Mean absolute error: 1.4\n",
      "Root mean squared error: 1.7\n"
     ]
    }
   ],
   "source": [
    "# KFold CV\n",
    "\n",
    "X = np.array(df_cut[\"N(RE)\"])\n",
    "Y = np.array(df_cut[\"N(RS)\"].astype(float))\n",
    "\n",
    "random_states = np.array(range(1,11,2)) * 2025\n",
    "\n",
    "mean_r2s = []\n",
    "mean_maes = []\n",
    "mean_rmses = []\n",
    "fold_results = []\n",
    "\n",
    "for rs in random_states:\n",
    "    kf = KFold(n_splits=5, shuffle=True, random_state=rs)\n",
    "    r2s = []\n",
    "    maes = []\n",
    "    rmses = []\n",
    "    for fold, (train_idx, test_idx) in enumerate(kf.split(X)):\n",
    "        x_train, x_test = X[train_idx], X[test_idx]\n",
    "        y_train, y_test = Y[train_idx], Y[test_idx]\n",
    "        model = LinearRegression()\n",
    "        model.fit(x_train.reshape(-1, 1), y_train)\n",
    "        y_pred = model.predict(x_test.reshape(-1, 1))\n",
    "        r2 = r2_score(y_test, y_pred)\n",
    "        mae = mean_absolute_error(y_test, y_pred)\n",
    "        rmse = root_mean_squared_error(y_test, y_pred)\n",
    "        r2s.append(r2)\n",
    "        maes.append(mae)\n",
    "        rmses.append(rmse)\n",
    "    mean_r2s.append(np.mean(r2s))\n",
    "    mean_maes.append(np.mean(maes))\n",
    "    mean_rmses.append(np.mean(rmses))\n",
    "    fold_result = {\"fold\": [i+1 for i in range(5)], \"R-squared\": r2s, \"MAE\": maes, \"RMSE\": rmses}\n",
    "    fold_results.append(fold_result)\n",
    "\n",
    "mean_r2_scores_of_5_times = np.mean(mean_r2s)\n",
    "mean_mae_scores_of_5_times = np.mean(mean_maes)\n",
    "mean_rmse_scores_of_5_times = np.mean(mean_rmses)\n",
    "\n",
    "print(\"Mean R-squared score: {:.3f}\".format(mean_r2_scores_of_5_times))\n",
    "print(\"Mean absolute error: {:.1f}\".format(mean_mae_scores_of_5_times))\n",
    "print(\"Root mean squared error: {:.1f}\".format(mean_rmse_scores_of_5_times))\n",
    "\n",
    "kf_results_df = pd.DataFrame()\n",
    "for i, r in enumerate(fold_results):\n",
    "    tmp_df = pd.DataFrame(r)\n",
    "    tmp_df.insert(0, \"random_state\", 2025 * (2 * i + 1))\n",
    "    kf_results_df = pd.concat([kf_results_df, tmp_df], axis=0, ignore_index=True)"
   ]
  },
  {
   "cell_type": "code",
   "execution_count": 24,
   "id": "ee783f11",
   "metadata": {},
   "outputs": [
    {
     "data": {
      "application/vnd.microsoft.datawrangler.viewer.v0+json": {
       "columns": [
        {
         "name": "index",
         "rawType": "int64",
         "type": "integer"
        },
        {
         "name": "random_state",
         "rawType": "int64",
         "type": "integer"
        },
        {
         "name": "fold",
         "rawType": "int64",
         "type": "integer"
        },
        {
         "name": "R-squared",
         "rawType": "float64",
         "type": "float"
        },
        {
         "name": "MAE",
         "rawType": "float64",
         "type": "float"
        },
        {
         "name": "RMSE",
         "rawType": "float64",
         "type": "float"
        }
       ],
       "ref": "6cbf5037-24c6-4e45-a13d-b3bb75612113",
       "rows": [
        [
         "0",
         "2025",
         "1",
         "0.9700186156126133",
         "1.4110104760272209",
         "1.6562909374817962"
        ],
        [
         "1",
         "2025",
         "2",
         "0.969667580157386",
         "1.3706691800361075",
         "1.559974795409031"
        ],
        [
         "2",
         "2025",
         "3",
         "0.9439626188013314",
         "1.3134041457922605",
         "2.0532942659908"
        ],
        [
         "3",
         "2025",
         "4",
         "0.9809947619501014",
         "1.070309608932738",
         "1.2937934890707146"
        ],
        [
         "4",
         "2025",
         "5",
         "0.9460482140516817",
         "1.7132398388361514",
         "1.9826800988043607"
        ],
        [
         "5",
         "6075",
         "1",
         "0.9730864161478988",
         "1.3551883961593376",
         "1.7423890330453324"
        ],
        [
         "6",
         "6075",
         "2",
         "0.9439698325582975",
         "1.588178406880437",
         "1.7356036839550595"
        ],
        [
         "7",
         "6075",
         "3",
         "0.9881038134496041",
         "0.8120764535901593",
         "0.8984408224248992"
        ],
        [
         "8",
         "6075",
         "4",
         "0.9831444140063136",
         "1.0178695870335486",
         "1.3790837367449007"
        ],
        [
         "9",
         "6075",
         "5",
         "0.9148237921697823",
         "2.008636998148949",
         "2.5143188294886523"
        ],
        [
         "10",
         "10125",
         "1",
         "0.9790695561997489",
         "1.116808992505348",
         "1.467567079307702"
        ],
        [
         "11",
         "10125",
         "2",
         "0.9817169110064864",
         "1.049318779587767",
         "1.2176986974513369"
        ],
        [
         "12",
         "10125",
         "3",
         "0.9726849113694548",
         "1.5910979403379995",
         "1.8466227726954048"
        ],
        [
         "13",
         "10125",
         "4",
         "0.9028175362498644",
         "1.7158135927033082",
         "2.3091760014028084"
        ],
        [
         "14",
         "10125",
         "5",
         "0.9710875550341752",
         "1.2858940784563475",
         "1.3737816084129375"
        ],
        [
         "15",
         "14175",
         "1",
         "0.9920644309345972",
         "0.8656053513852363",
         "1.0288405419323132"
        ],
        [
         "16",
         "14175",
         "2",
         "0.9474863833411333",
         "1.469824947283243",
         "1.7791072442995566"
        ],
        [
         "17",
         "14175",
         "3",
         "0.9401022675292852",
         "2.0852998169496697",
         "2.5061174761567773"
        ],
        [
         "18",
         "14175",
         "4",
         "0.9555940095354329",
         "1.1093300115162965",
         "1.3832032702894868"
        ],
        [
         "19",
         "14175",
         "5",
         "0.9755248516285728",
         "1.1947910536650095",
         "1.4569870287966806"
        ],
        [
         "20",
         "18225",
         "1",
         "0.9507748975168852",
         "1.3046403755001066",
         "1.9771800749446304"
        ],
        [
         "21",
         "18225",
         "2",
         "0.9804663331746961",
         "1.361232336032424",
         "1.5260529220200765"
        ],
        [
         "22",
         "18225",
         "3",
         "0.9611937344619315",
         "1.3956857029679905",
         "1.7017191594890597"
        ],
        [
         "23",
         "18225",
         "4",
         "0.9757148410166305",
         "1.0804444362495116",
         "1.3403343369766523"
        ],
        [
         "24",
         "18225",
         "5",
         "0.9094169102805876",
         "1.588044293833101",
         "1.8776298495389165"
        ]
       ],
       "shape": {
        "columns": 5,
        "rows": 25
       }
      },
      "text/html": [
       "<div>\n",
       "<style scoped>\n",
       "    .dataframe tbody tr th:only-of-type {\n",
       "        vertical-align: middle;\n",
       "    }\n",
       "\n",
       "    .dataframe tbody tr th {\n",
       "        vertical-align: top;\n",
       "    }\n",
       "\n",
       "    .dataframe thead th {\n",
       "        text-align: right;\n",
       "    }\n",
       "</style>\n",
       "<table border=\"1\" class=\"dataframe\">\n",
       "  <thead>\n",
       "    <tr style=\"text-align: right;\">\n",
       "      <th></th>\n",
       "      <th>random_state</th>\n",
       "      <th>fold</th>\n",
       "      <th>R-squared</th>\n",
       "      <th>MAE</th>\n",
       "      <th>RMSE</th>\n",
       "    </tr>\n",
       "  </thead>\n",
       "  <tbody>\n",
       "    <tr>\n",
       "      <th>0</th>\n",
       "      <td>2025</td>\n",
       "      <td>1</td>\n",
       "      <td>0.970019</td>\n",
       "      <td>1.411010</td>\n",
       "      <td>1.656291</td>\n",
       "    </tr>\n",
       "    <tr>\n",
       "      <th>1</th>\n",
       "      <td>2025</td>\n",
       "      <td>2</td>\n",
       "      <td>0.969668</td>\n",
       "      <td>1.370669</td>\n",
       "      <td>1.559975</td>\n",
       "    </tr>\n",
       "    <tr>\n",
       "      <th>2</th>\n",
       "      <td>2025</td>\n",
       "      <td>3</td>\n",
       "      <td>0.943963</td>\n",
       "      <td>1.313404</td>\n",
       "      <td>2.053294</td>\n",
       "    </tr>\n",
       "    <tr>\n",
       "      <th>3</th>\n",
       "      <td>2025</td>\n",
       "      <td>4</td>\n",
       "      <td>0.980995</td>\n",
       "      <td>1.070310</td>\n",
       "      <td>1.293793</td>\n",
       "    </tr>\n",
       "    <tr>\n",
       "      <th>4</th>\n",
       "      <td>2025</td>\n",
       "      <td>5</td>\n",
       "      <td>0.946048</td>\n",
       "      <td>1.713240</td>\n",
       "      <td>1.982680</td>\n",
       "    </tr>\n",
       "    <tr>\n",
       "      <th>5</th>\n",
       "      <td>6075</td>\n",
       "      <td>1</td>\n",
       "      <td>0.973086</td>\n",
       "      <td>1.355188</td>\n",
       "      <td>1.742389</td>\n",
       "    </tr>\n",
       "    <tr>\n",
       "      <th>6</th>\n",
       "      <td>6075</td>\n",
       "      <td>2</td>\n",
       "      <td>0.943970</td>\n",
       "      <td>1.588178</td>\n",
       "      <td>1.735604</td>\n",
       "    </tr>\n",
       "    <tr>\n",
       "      <th>7</th>\n",
       "      <td>6075</td>\n",
       "      <td>3</td>\n",
       "      <td>0.988104</td>\n",
       "      <td>0.812076</td>\n",
       "      <td>0.898441</td>\n",
       "    </tr>\n",
       "    <tr>\n",
       "      <th>8</th>\n",
       "      <td>6075</td>\n",
       "      <td>4</td>\n",
       "      <td>0.983144</td>\n",
       "      <td>1.017870</td>\n",
       "      <td>1.379084</td>\n",
       "    </tr>\n",
       "    <tr>\n",
       "      <th>9</th>\n",
       "      <td>6075</td>\n",
       "      <td>5</td>\n",
       "      <td>0.914824</td>\n",
       "      <td>2.008637</td>\n",
       "      <td>2.514319</td>\n",
       "    </tr>\n",
       "    <tr>\n",
       "      <th>10</th>\n",
       "      <td>10125</td>\n",
       "      <td>1</td>\n",
       "      <td>0.979070</td>\n",
       "      <td>1.116809</td>\n",
       "      <td>1.467567</td>\n",
       "    </tr>\n",
       "    <tr>\n",
       "      <th>11</th>\n",
       "      <td>10125</td>\n",
       "      <td>2</td>\n",
       "      <td>0.981717</td>\n",
       "      <td>1.049319</td>\n",
       "      <td>1.217699</td>\n",
       "    </tr>\n",
       "    <tr>\n",
       "      <th>12</th>\n",
       "      <td>10125</td>\n",
       "      <td>3</td>\n",
       "      <td>0.972685</td>\n",
       "      <td>1.591098</td>\n",
       "      <td>1.846623</td>\n",
       "    </tr>\n",
       "    <tr>\n",
       "      <th>13</th>\n",
       "      <td>10125</td>\n",
       "      <td>4</td>\n",
       "      <td>0.902818</td>\n",
       "      <td>1.715814</td>\n",
       "      <td>2.309176</td>\n",
       "    </tr>\n",
       "    <tr>\n",
       "      <th>14</th>\n",
       "      <td>10125</td>\n",
       "      <td>5</td>\n",
       "      <td>0.971088</td>\n",
       "      <td>1.285894</td>\n",
       "      <td>1.373782</td>\n",
       "    </tr>\n",
       "    <tr>\n",
       "      <th>15</th>\n",
       "      <td>14175</td>\n",
       "      <td>1</td>\n",
       "      <td>0.992064</td>\n",
       "      <td>0.865605</td>\n",
       "      <td>1.028841</td>\n",
       "    </tr>\n",
       "    <tr>\n",
       "      <th>16</th>\n",
       "      <td>14175</td>\n",
       "      <td>2</td>\n",
       "      <td>0.947486</td>\n",
       "      <td>1.469825</td>\n",
       "      <td>1.779107</td>\n",
       "    </tr>\n",
       "    <tr>\n",
       "      <th>17</th>\n",
       "      <td>14175</td>\n",
       "      <td>3</td>\n",
       "      <td>0.940102</td>\n",
       "      <td>2.085300</td>\n",
       "      <td>2.506117</td>\n",
       "    </tr>\n",
       "    <tr>\n",
       "      <th>18</th>\n",
       "      <td>14175</td>\n",
       "      <td>4</td>\n",
       "      <td>0.955594</td>\n",
       "      <td>1.109330</td>\n",
       "      <td>1.383203</td>\n",
       "    </tr>\n",
       "    <tr>\n",
       "      <th>19</th>\n",
       "      <td>14175</td>\n",
       "      <td>5</td>\n",
       "      <td>0.975525</td>\n",
       "      <td>1.194791</td>\n",
       "      <td>1.456987</td>\n",
       "    </tr>\n",
       "    <tr>\n",
       "      <th>20</th>\n",
       "      <td>18225</td>\n",
       "      <td>1</td>\n",
       "      <td>0.950775</td>\n",
       "      <td>1.304640</td>\n",
       "      <td>1.977180</td>\n",
       "    </tr>\n",
       "    <tr>\n",
       "      <th>21</th>\n",
       "      <td>18225</td>\n",
       "      <td>2</td>\n",
       "      <td>0.980466</td>\n",
       "      <td>1.361232</td>\n",
       "      <td>1.526053</td>\n",
       "    </tr>\n",
       "    <tr>\n",
       "      <th>22</th>\n",
       "      <td>18225</td>\n",
       "      <td>3</td>\n",
       "      <td>0.961194</td>\n",
       "      <td>1.395686</td>\n",
       "      <td>1.701719</td>\n",
       "    </tr>\n",
       "    <tr>\n",
       "      <th>23</th>\n",
       "      <td>18225</td>\n",
       "      <td>4</td>\n",
       "      <td>0.975715</td>\n",
       "      <td>1.080444</td>\n",
       "      <td>1.340334</td>\n",
       "    </tr>\n",
       "    <tr>\n",
       "      <th>24</th>\n",
       "      <td>18225</td>\n",
       "      <td>5</td>\n",
       "      <td>0.909417</td>\n",
       "      <td>1.588044</td>\n",
       "      <td>1.877630</td>\n",
       "    </tr>\n",
       "  </tbody>\n",
       "</table>\n",
       "</div>"
      ],
      "text/plain": [
       "    random_state  fold  R-squared       MAE      RMSE\n",
       "0           2025     1   0.970019  1.411010  1.656291\n",
       "1           2025     2   0.969668  1.370669  1.559975\n",
       "2           2025     3   0.943963  1.313404  2.053294\n",
       "3           2025     4   0.980995  1.070310  1.293793\n",
       "4           2025     5   0.946048  1.713240  1.982680\n",
       "5           6075     1   0.973086  1.355188  1.742389\n",
       "6           6075     2   0.943970  1.588178  1.735604\n",
       "7           6075     3   0.988104  0.812076  0.898441\n",
       "8           6075     4   0.983144  1.017870  1.379084\n",
       "9           6075     5   0.914824  2.008637  2.514319\n",
       "10         10125     1   0.979070  1.116809  1.467567\n",
       "11         10125     2   0.981717  1.049319  1.217699\n",
       "12         10125     3   0.972685  1.591098  1.846623\n",
       "13         10125     4   0.902818  1.715814  2.309176\n",
       "14         10125     5   0.971088  1.285894  1.373782\n",
       "15         14175     1   0.992064  0.865605  1.028841\n",
       "16         14175     2   0.947486  1.469825  1.779107\n",
       "17         14175     3   0.940102  2.085300  2.506117\n",
       "18         14175     4   0.955594  1.109330  1.383203\n",
       "19         14175     5   0.975525  1.194791  1.456987\n",
       "20         18225     1   0.950775  1.304640  1.977180\n",
       "21         18225     2   0.980466  1.361232  1.526053\n",
       "22         18225     3   0.961194  1.395686  1.701719\n",
       "23         18225     4   0.975715  1.080444  1.340334\n",
       "24         18225     5   0.909417  1.588044  1.877630"
      ]
     },
     "execution_count": 24,
     "metadata": {},
     "output_type": "execute_result"
    }
   ],
   "source": [
    "kf_results_df"
   ]
  },
  {
   "cell_type": "code",
   "execution_count": 25,
   "id": "e707e536",
   "metadata": {},
   "outputs": [
    {
     "name": "stdout",
     "output_type": "stream",
     "text": [
      "R-squared score: 0.967\n",
      "Mean absolute error: 1.4\n",
      "Root mean squared error: 1.7\n"
     ]
    }
   ],
   "source": [
    "# LOO-CV\n",
    "\n",
    "X = np.array(df_cut[\"N(RE)\"])\n",
    "Y = np.array(df_cut[\"N(RS)\"].astype(float))\n",
    "\n",
    "random_states = np.array(range(1,11,2)) * 2025\n",
    "\n",
    "mean_r2s = []\n",
    "mean_maes = []\n",
    "mean_rmses = []\n",
    "fold_results = []\n",
    "\n",
    "y_preds = []\n",
    "y_tests = []\n",
    "loo = LeaveOneOut()\n",
    "for train_idx, test_idx in loo.split(X):\n",
    "    x_train, x_test = X[train_idx], X[test_idx]\n",
    "    y_train, y_test = Y[train_idx], Y[test_idx]\n",
    "    model = LinearRegression()\n",
    "    model.fit(x_train.reshape(-1, 1), y_train)\n",
    "    y_pred = model.predict(x_test.reshape(-1, 1))\n",
    "    y_preds.append(y_pred)\n",
    "    y_tests.append(y_test)\n",
    "r2 = r2_score(y_tests, y_preds)\n",
    "mae = mean_absolute_error(y_tests, y_preds)\n",
    "rmse = root_mean_squared_error(y_tests, y_preds)\n",
    "\n",
    "print(\"R-squared score: {:.3f}\".format(r2))\n",
    "print(\"Mean absolute error: {:.1f}\".format(mae))\n",
    "print(\"Root mean squared error: {:.1f}\".format(rmse))"
   ]
  },
  {
   "cell_type": "code",
   "execution_count": 26,
   "id": "805a70cc",
   "metadata": {},
   "outputs": [
    {
     "name": "stdout",
     "output_type": "stream",
     "text": [
      "[0.7203451]\n",
      "75.04721418496464\n"
     ]
    }
   ],
   "source": [
    "model = LinearRegression()\n",
    "model.fit(X.reshape(-1, 1), Y)\n",
    "print(model.coef_)\n",
    "print(model.intercept_)"
   ]
  }
 ],
 "metadata": {
  "kernelspec": {
   "display_name": "DailyUse",
   "language": "python",
   "name": "python3"
  },
  "language_info": {
   "codemirror_mode": {
    "name": "ipython",
    "version": 3
   },
   "file_extension": ".py",
   "mimetype": "text/x-python",
   "name": "python",
   "nbconvert_exporter": "python",
   "pygments_lexer": "ipython3",
   "version": "3.12.9"
  }
 },
 "nbformat": 4,
 "nbformat_minor": 5
}
